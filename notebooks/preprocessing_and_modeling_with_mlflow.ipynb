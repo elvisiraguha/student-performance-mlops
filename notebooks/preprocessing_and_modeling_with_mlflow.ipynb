{
 "cells": [
  {
   "cell_type": "markdown",
   "id": "436f46a9-879b-4378-8c83-f31a1b70284c",
   "metadata": {},
   "source": [
    "#### Imports"
   ]
  },
  {
   "cell_type": "code",
   "execution_count": 7,
   "id": "d834fe7a-b0a3-44b4-95f7-526cd8c2fcce",
   "metadata": {},
   "outputs": [],
   "source": [
    "import pandas as pd\n",
    "import numpy as np\n",
    "import seaborn as sns\n",
    "import matplotlib.pyplot as plt\n",
    "\n",
    "from sklearn.model_selection import train_test_split\n",
    "from sklearn.preprocessing import OneHotEncoder, StandardScaler\n",
    "from sklearn.compose import ColumnTransformer\n",
    "from sklearn.pipeline import Pipeline\n",
    "from sklearn.metrics import mean_absolute_error, mean_squared_error, r2_score, root_mean_squared_error\n",
    "\n",
    "from sklearn.linear_model import LinearRegression\n",
    "from sklearn.ensemble import RandomForestRegressor\n",
    "from sklearn.tree import DecisionTreeRegressor\n",
    "\n",
    "import mlflow\n",
    "import mlflow.sklearn"
   ]
  },
  {
   "cell_type": "markdown",
   "id": "4e83042e-4623-48b6-9c7d-585acde185dc",
   "metadata": {},
   "source": [
    "#### Load Data"
   ]
  },
  {
   "cell_type": "code",
   "execution_count": 11,
   "id": "2ee802b7-54bd-4fb0-9ae8-a5568fd3e91c",
   "metadata": {},
   "outputs": [],
   "source": [
    "df = pd.read_csv(\"../data/student-mat.csv\", sep=\";\")\n",
    "binary_map = {\"yes\": 1, \"no\": 0}\n",
    "binary_cols = ['schoolsup', 'famsup', 'paid', 'activities', \n",
    "               'nursery', 'higher', 'internet', 'romantic']\n",
    "df[binary_cols] = df[binary_cols].map(lambda x: binary_map.get(x, x))"
   ]
  },
  {
   "cell_type": "markdown",
   "id": "8f27e571-f974-407a-b9b8-aaeab974fd56",
   "metadata": {},
   "source": [
    "#### Target and features"
   ]
  },
  {
   "cell_type": "code",
   "execution_count": 12,
   "id": "b653e88d-37fa-499d-b3a4-0283d66f3640",
   "metadata": {},
   "outputs": [],
   "source": [
    "target = \"G3\"\n",
    "X = df.drop(columns=[target])\n",
    "y = df[target]\n",
    "\n",
    "numeric_cols = X.select_dtypes(include='number').columns.tolist()\n",
    "categorical_cols = X.select_dtypes(include='object').columns.tolist()\n",
    "\n",
    "X_train, X_test, y_train, y_test = train_test_split(X, y, test_size=0.2, random_state=42)\n",
    "\n",
    "preprocessor = ColumnTransformer([\n",
    "    (\"num\", StandardScaler(), numeric_cols),\n",
    "    (\"cat\", OneHotEncoder(drop=\"first\", sparse_output=False), categorical_cols)\n",
    "])"
   ]
  },
  {
   "cell_type": "markdown",
   "id": "d0ffc6d0-f230-45d1-80eb-e28fc682750c",
   "metadata": {},
   "source": [
    "#### Model configurations"
   ]
  },
  {
   "cell_type": "code",
   "execution_count": 13,
   "id": "226657d4-d6f4-4e7a-a677-ff5245b25745",
   "metadata": {},
   "outputs": [],
   "source": [
    "model_configs = {\n",
    "    \"LinearRegression\": LinearRegression(),\n",
    "    \"DecisionTree\": DecisionTreeRegressor(random_state=42),\n",
    "    \"RandomForest\": RandomForestRegressor(n_estimators=100, random_state=42)\n",
    "}"
   ]
  },
  {
   "cell_type": "markdown",
   "id": "0d3a98b8-4cbc-4951-bc11-469e93847b30",
   "metadata": {},
   "source": [
    "#### Start MLflow experiment"
   ]
  },
  {
   "cell_type": "code",
   "execution_count": 15,
   "id": "e1b08118-7ac1-43e5-bdfc-9306fd9cda73",
   "metadata": {},
   "outputs": [
    {
     "name": "stderr",
     "output_type": "stream",
     "text": [
      "2025/07/14 23:31:51 INFO mlflow.tracking.fluent: Experiment with name 'student-performance-regression' does not exist. Creating a new experiment.\n",
      "2025/07/14 23:31:52 WARNING mlflow.models.model: `artifact_path` is deprecated. Please use `name` instead.\n",
      "\u001b[31m2025/07/14 23:31:54 WARNING mlflow.models.model: Model logged without a signature and input example. Please set `input_example` parameter when logging the model to auto infer the model signature.\u001b[0m\n",
      "2025/07/14 23:31:55 WARNING mlflow.models.model: `artifact_path` is deprecated. Please use `name` instead.\n"
     ]
    },
    {
     "name": "stdout",
     "output_type": "stream",
     "text": [
      "✅ Logged LinearRegression: MAE=1.65, RMSE=2.38, R²=0.72\n",
      "🏃 View run LinearRegression at: http://127.0.0.1:5000/#/experiments/270823155224265531/runs/65aa5c3d82f9405aa58e5d647abe23c4\n",
      "🧪 View experiment at: http://127.0.0.1:5000/#/experiments/270823155224265531\n"
     ]
    },
    {
     "name": "stderr",
     "output_type": "stream",
     "text": [
      "\u001b[31m2025/07/14 23:31:56 WARNING mlflow.models.model: Model logged without a signature and input example. Please set `input_example` parameter when logging the model to auto infer the model signature.\u001b[0m\n",
      "2025/07/14 23:31:56 WARNING mlflow.models.model: `artifact_path` is deprecated. Please use `name` instead.\n"
     ]
    },
    {
     "name": "stdout",
     "output_type": "stream",
     "text": [
      "✅ Logged DecisionTree: MAE=1.43, RMSE=2.61, R²=0.67\n",
      "🏃 View run DecisionTree at: http://127.0.0.1:5000/#/experiments/270823155224265531/runs/03016e9115264a689d7c9d07fd748787\n",
      "🧪 View experiment at: http://127.0.0.1:5000/#/experiments/270823155224265531\n"
     ]
    },
    {
     "name": "stderr",
     "output_type": "stream",
     "text": [
      "\u001b[31m2025/07/14 23:31:58 WARNING mlflow.models.model: Model logged without a signature and input example. Please set `input_example` parameter when logging the model to auto infer the model signature.\u001b[0m\n"
     ]
    },
    {
     "name": "stdout",
     "output_type": "stream",
     "text": [
      "✅ Logged RandomForest: MAE=1.19, RMSE=1.95, R²=0.82\n",
      "🏃 View run RandomForest at: http://127.0.0.1:5000/#/experiments/270823155224265531/runs/136ab25da4984b32b20fc2a748525e71\n",
      "🧪 View experiment at: http://127.0.0.1:5000/#/experiments/270823155224265531\n"
     ]
    }
   ],
   "source": [
    "mlflow.set_experiment(\"student-performance-regression\")\n",
    "mlflow.set_tracking_uri(\"http://127.0.0.1:5000\")\n",
    "\n",
    "for model_name, model in model_configs.items():\n",
    "    with mlflow.start_run(run_name=model_name):\n",
    "        # Build pipeline\n",
    "        pipeline = Pipeline([\n",
    "            (\"preprocessor\", preprocessor),\n",
    "            (\"regressor\", model)\n",
    "        ])\n",
    "\n",
    "        # Fit and predict\n",
    "        pipeline.fit(X_train, y_train)\n",
    "        preds = pipeline.predict(X_test)\n",
    "\n",
    "        # Metrics\n",
    "        mae = mean_absolute_error(y_test, preds)\n",
    "        rmse = root_mean_squared_error(y_test, preds)\n",
    "        r2 = r2_score(y_test, preds)\n",
    "\n",
    "        # Log params and metrics\n",
    "        mlflow.log_param(\"model\", model_name)\n",
    "        if hasattr(model, \"n_estimators\"):\n",
    "            mlflow.log_param(\"n_estimators\", model.n_estimators)\n",
    "\n",
    "        mlflow.log_metric(\"MAE\", mae)\n",
    "        mlflow.log_metric(\"RMSE\", rmse)\n",
    "        mlflow.log_metric(\"R2\", r2)\n",
    "\n",
    "        # Log model artifact\n",
    "        mlflow.sklearn.log_model(pipeline, \"model\")\n",
    "\n",
    "        print(f\"✅ Logged {model_name}: MAE={mae:.2f}, RMSE={rmse:.2f}, R²={r2:.2f}\")"
   ]
  },
  {
   "cell_type": "markdown",
   "id": "b63110c8-a703-4437-b08d-dcddc17ce8a2",
   "metadata": {},
   "source": [
    "#### Register model"
   ]
  },
  {
   "cell_type": "code",
   "execution_count": 29,
   "id": "0d01b04b-1e79-4595-9d3b-2db28ed09076",
   "metadata": {},
   "outputs": [
    {
     "name": "stderr",
     "output_type": "stream",
     "text": [
      "Successfully registered model 'StudentPerformanceModel'.\n",
      "2025/07/14 23:39:26 WARNING mlflow.tracking._model_registry.fluent: Run with id 136ab25da4984b32b20fc2a748525e71 has no artifacts at artifact path 'model', registering model based on models:/m-1af2f6ce9d2945b7bfc494523b84d0cc instead\n",
      "2025/07/14 23:39:26 INFO mlflow.store.model_registry.abstract_store: Waiting up to 300 seconds for model version to finish creation. Model name: StudentPerformanceModel, version 1\n",
      "Created version '1' of model 'StudentPerformanceModel'.\n"
     ]
    },
    {
     "data": {
      "text/plain": [
       "<ModelVersion: aliases=[], creation_timestamp=1752529166429, current_stage='None', deployment_job_state=<ModelVersionDeploymentJobState: current_task_name='', job_id='', job_state='DEPLOYMENT_JOB_CONNECTION_STATE_UNSPECIFIED', run_id='', run_state='DEPLOYMENT_JOB_RUN_STATE_UNSPECIFIED'>, description='', last_updated_timestamp=1752529166429, metrics=None, model_id=None, name='StudentPerformanceModel', params=None, run_id='136ab25da4984b32b20fc2a748525e71', run_link='', source='models:/m-1af2f6ce9d2945b7bfc494523b84d0cc', status='READY', status_message=None, tags={}, user_id='', version='1'>"
      ]
     },
     "execution_count": 29,
     "metadata": {},
     "output_type": "execute_result"
    }
   ],
   "source": [
    "from mlflow.tracking import MlflowClient\n",
    "\n",
    "model_uri = f\"runs:/{mlflow.last_active_run().info.run_id}/model\"\n",
    "model_name = \"StudentPerformanceModel\"\n",
    "\n",
    "mlflow.register_model(model_uri=model_uri, name=model_name)"
   ]
  }
 ],
 "metadata": {
  "kernelspec": {
   "display_name": "Python 3 (ipykernel)",
   "language": "python",
   "name": "python3"
  },
  "language_info": {
   "codemirror_mode": {
    "name": "ipython",
    "version": 3
   },
   "file_extension": ".py",
   "mimetype": "text/x-python",
   "name": "python",
   "nbconvert_exporter": "python",
   "pygments_lexer": "ipython3",
   "version": "3.12.2"
  }
 },
 "nbformat": 4,
 "nbformat_minor": 5
}
